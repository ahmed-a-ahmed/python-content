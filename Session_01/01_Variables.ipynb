{
 "cells": [
  {
   "cell_type": "markdown",
   "metadata": {},
   "source": [
    "## Variables and Data Types"
   ]
  },
  {
   "cell_type": "markdown",
   "metadata": {},
   "source": [
    "### 1. Basic Data Types\n",
    "\n",
    "Python supports various built-in data types, including:\n",
    "\n",
    "- **Integers (`int`)**: Whole numbers, e.g., `1, -10, 42`\n",
    "- **Floats (`float`)**: Decimal numbers, e.g., `3.14, -2.5, 0.0`\n",
    "- **Strings (`str`)**: Text values enclosed in quotes, e.g., `'Hello'`, `\"Python\"`\n",
    "- **Booleans (`bool`)**: Binary values representing `True` or `False`"
   ]
  },
  {
   "cell_type": "code",
   "execution_count": null,
   "metadata": {},
   "outputs": [],
   "source": [
    "name = 'ahmed'     # String contains sequence of characters\n",
    "age = 23           # Integer not a fractional number\n",
    "height = 172.5     # float contains fraction \n",
    "is_student = False # boolean (True or False) , (1, 0)\n"
   ]
  },
  {
   "cell_type": "code",
   "execution_count": null,
   "metadata": {},
   "outputs": [],
   "source": [
    "# string can be created with single quotation or double quotation like that\n",
    "name = 'ahmed' \n",
    "name = \"ahmed\""
   ]
  },
  {
   "cell_type": "markdown",
   "metadata": {},
   "source": [
    "### 2. Naming Rules"
   ]
  },
  {
   "cell_type": "code",
   "execution_count": null,
   "metadata": {},
   "outputs": [],
   "source": [
    "# A variable name must start with a letter or the underscore character\n",
    "# A variable name cannot start with a number\n",
    "# A variable name can only contain alpha-numeric characters and underscores (A-z, 0-9, and _ )\n",
    "# Variable names are case-sensitive (age, Age and AGE are three different variables)\n",
    "\n",
    "#Legal variable names:\n",
    "myvar = \"Ahmed\"\n",
    "my_var = \"Ahmed\"\n",
    "_my_var = \"Ahmed\"\n",
    "myVar = \"Ahmed\"\n",
    "MYVAR = \"Ahmed\"\n",
    "myvar2 = \"Ahmed\"\n",
    "\n",
    "#Illegal variable names:\n",
    "2myvar = \"Ahmed\"\n",
    "my-var = \"Ahmed\"\n",
    "my var = \"Ahmed"
   ]
  }
 ],
 "metadata": {
  "kernelspec": {
   "display_name": "base",
   "language": "python",
   "name": "python3"
  },
  "language_info": {
   "codemirror_mode": {
    "name": "ipython",
    "version": 3
   },
   "file_extension": ".py",
   "mimetype": "text/x-python",
   "name": "python",
   "nbconvert_exporter": "python",
   "pygments_lexer": "ipython3",
   "version": "3.12.7"
  }
 },
 "nbformat": 4,
 "nbformat_minor": 2
}
