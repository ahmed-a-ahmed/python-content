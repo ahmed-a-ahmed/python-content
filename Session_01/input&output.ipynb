{
 "cells": [
  {
   "cell_type": "markdown",
   "metadata": {},
   "source": [
    "# Input"
   ]
  },
  {
   "cell_type": "markdown",
   "metadata": {},
   "source": [
    "## 1. Basic Syntax"
   ]
  },
  {
   "cell_type": "code",
   "execution_count": 1,
   "metadata": {},
   "outputs": [],
   "source": [
    "# variable_name = input()\n",
    "\n",
    "name = input()"
   ]
  },
  {
   "cell_type": "markdown",
   "metadata": {},
   "source": [
    "## 2. Type"
   ]
  },
  {
   "cell_type": "code",
   "execution_count": 5,
   "metadata": {},
   "outputs": [
    {
     "name": "stdout",
     "output_type": "stream",
     "text": [
      "<class 'str'>\n",
      "<class 'int'>\n",
      "<class 'float'>\n",
      "<class 'bool'>\n"
     ]
    }
   ],
   "source": [
    "name = 'ahmed'     # String contains sequence of characters\n",
    "age = 23           # Integer not a fractional number\n",
    "height = 172.5     # float contains fraction \n",
    "is_student = False # boolean (True or False) , (1, 0)\n",
    "\n",
    "print(type(name))\n",
    "print(type(age))\n",
    "print(type(height))\n",
    "print(type(is_student))\n"
   ]
  },
  {
   "cell_type": "markdown",
   "metadata": {},
   "source": [
    "# Output"
   ]
  },
  {
   "cell_type": "markdown",
   "metadata": {},
   "source": [
    "## 1. Basic Syntax"
   ]
  },
  {
   "cell_type": "code",
   "execution_count": 6,
   "metadata": {},
   "outputs": [
    {
     "name": "stdout",
     "output_type": "stream",
     "text": [
      "ahmed\n"
     ]
    }
   ],
   "source": [
    "# print(variable)\n",
    "name = 'ahmed'\n",
    "print(name)"
   ]
  },
  {
   "cell_type": "markdown",
   "metadata": {},
   "source": [
    "## 2. Printing Multiple Items"
   ]
  },
  {
   "cell_type": "code",
   "execution_count": 7,
   "metadata": {},
   "outputs": [
    {
     "name": "stdout",
     "output_type": "stream",
     "text": [
      "ahmed 23\n"
     ]
    }
   ],
   "source": [
    "name = 'ahmed'\n",
    "age = 23\n",
    "print(name, age)"
   ]
  },
  {
   "cell_type": "code",
   "execution_count": 13,
   "metadata": {},
   "outputs": [
    {
     "name": "stdout",
     "output_type": "stream",
     "text": [
      "name: ahmed age: 23\n"
     ]
    }
   ],
   "source": [
    "name = 'ahmed'\n",
    "age = 23\n",
    "print('name:',name,'age:', age)"
   ]
  },
  {
   "cell_type": "markdown",
   "metadata": {},
   "source": [
    "## 3. Using sep to Change the Separator"
   ]
  },
  {
   "cell_type": "code",
   "execution_count": 15,
   "metadata": {},
   "outputs": [
    {
     "name": "stdout",
     "output_type": "stream",
     "text": [
      "name: ahmed age: 23\n"
     ]
    }
   ],
   "source": [
    "name = 'ahmed'\n",
    "age = 23\n",
    "print('name:',name,'age:', age, sep=' ') # this is default separator"
   ]
  },
  {
   "cell_type": "code",
   "execution_count": 16,
   "metadata": {},
   "outputs": [
    {
     "name": "stdout",
     "output_type": "stream",
     "text": [
      "name:<>ahmed<>age:<>23\n"
     ]
    }
   ],
   "source": [
    "name = 'ahmed'\n",
    "age = 23\n",
    "print('name:',name,'age:', age, sep='<>') # this is modified separator"
   ]
  },
  {
   "cell_type": "markdown",
   "metadata": {},
   "source": [
    "## 4. Using end to Control Line Endings"
   ]
  },
  {
   "cell_type": "code",
   "execution_count": 20,
   "metadata": {},
   "outputs": [
    {
     "name": "stdout",
     "output_type": "stream",
     "text": [
      "name: ahmed age: 23\n",
      "name: ahmed age: 23\n"
     ]
    }
   ],
   "source": [
    "name = 'ahmed'\n",
    "age = 23\n",
    "print('name:',name,'age:', age, end='\\n') # this is default ending\n",
    "print('name:',name,'age:', age, end='\\n') # this is default ending"
   ]
  },
  {
   "cell_type": "code",
   "execution_count": 21,
   "metadata": {},
   "outputs": [
    {
     "name": "stdout",
     "output_type": "stream",
     "text": [
      "name: ahmed age: 23<>name: ahmed age: 23<>"
     ]
    }
   ],
   "source": [
    "name = 'ahmed'\n",
    "age = 23\n",
    "print('name:',name,'age:', age, end='<>') # this is modified ending\n",
    "print('name:',name,'age:', age, end='<>') # this is modified ending"
   ]
  },
  {
   "cell_type": "markdown",
   "metadata": {},
   "source": [
    "## 5. Printing Special Characters"
   ]
  },
  {
   "cell_type": "code",
   "execution_count": 23,
   "metadata": {},
   "outputs": [
    {
     "name": "stdout",
     "output_type": "stream",
     "text": [
      "ahmedahmed\n"
     ]
    }
   ],
   "source": [
    "print('ahmedahmed') # normal printing"
   ]
  },
  {
   "cell_type": "code",
   "execution_count": 24,
   "metadata": {},
   "outputs": [
    {
     "name": "stdout",
     "output_type": "stream",
     "text": [
      "ahmed\n",
      "ahmed\n"
     ]
    }
   ],
   "source": [
    "print('ahmed\\nahmed') # print new line"
   ]
  },
  {
   "cell_type": "code",
   "execution_count": 25,
   "metadata": {},
   "outputs": [
    {
     "name": "stdout",
     "output_type": "stream",
     "text": [
      "ahmed\tahmed\n"
     ]
    }
   ],
   "source": [
    "print('ahmed\\tahmed') # print tab"
   ]
  },
  {
   "cell_type": "code",
   "execution_count": 26,
   "metadata": {},
   "outputs": [
    {
     "name": "stdout",
     "output_type": "stream",
     "text": [
      "ahmed's book\n"
     ]
    }
   ],
   "source": [
    "print('ahmed\\'s book') # print singel quotation"
   ]
  },
  {
   "cell_type": "code",
   "execution_count": 27,
   "metadata": {},
   "outputs": [
    {
     "name": "stdout",
     "output_type": "stream",
     "text": [
      "ahmed\"s book\n"
     ]
    }
   ],
   "source": [
    "print(\"ahmed\\\"s book\") # print double quotation"
   ]
  },
  {
   "cell_type": "markdown",
   "metadata": {},
   "source": [
    "## 6. Formatting Output with f-strings (f\"\")"
   ]
  },
  {
   "cell_type": "code",
   "execution_count": 29,
   "metadata": {},
   "outputs": [
    {
     "name": "stdout",
     "output_type": "stream",
     "text": [
      "name: ahmed, age: 23\n"
     ]
    }
   ],
   "source": [
    "name = 'ahmed'\n",
    "age = 23\n",
    "print(f'name: {name}, age: {age}')"
   ]
  }
 ],
 "metadata": {
  "kernelspec": {
   "display_name": "base",
   "language": "python",
   "name": "python3"
  },
  "language_info": {
   "codemirror_mode": {
    "name": "ipython",
    "version": 3
   },
   "file_extension": ".py",
   "mimetype": "text/x-python",
   "name": "python",
   "nbconvert_exporter": "python",
   "pygments_lexer": "ipython3",
   "version": "3.12.7"
  }
 },
 "nbformat": 4,
 "nbformat_minor": 2
}
